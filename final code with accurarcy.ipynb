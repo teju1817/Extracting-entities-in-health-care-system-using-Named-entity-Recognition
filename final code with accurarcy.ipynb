{
 "cells": [
  {
   "cell_type": "code",
   "execution_count": 1,
   "id": "8a5d3d1a-324d-47fb-aa3b-9648c5087e92",
   "metadata": {},
   "outputs": [
    {
     "name": "stdout",
     "output_type": "stream",
     "text": [
      "Requirement already satisfied: pycrf in c:\\users\\hp\\appdata\\local\\programs\\python\\python312\\lib\\site-packages (0.0.1)\n",
      "Requirement already satisfied: sklearn-crfsuite in c:\\users\\hp\\appdata\\local\\programs\\python\\python312\\lib\\site-packages (0.5.0)\n",
      "Requirement already satisfied: python-crfsuite>=0.9.7 in c:\\users\\hp\\appdata\\local\\programs\\python\\python312\\lib\\site-packages (from sklearn-crfsuite) (0.9.10)\n",
      "Requirement already satisfied: scikit-learn>=0.24.0 in c:\\users\\hp\\appdata\\local\\programs\\python\\python312\\lib\\site-packages (from sklearn-crfsuite) (1.5.1)\n",
      "Requirement already satisfied: tabulate>=0.4.2 in c:\\users\\hp\\appdata\\local\\programs\\python\\python312\\lib\\site-packages (from sklearn-crfsuite) (0.9.0)\n",
      "Requirement already satisfied: tqdm>=2.0 in c:\\users\\hp\\appdata\\local\\programs\\python\\python312\\lib\\site-packages (from sklearn-crfsuite) (4.66.5)\n",
      "Requirement already satisfied: numpy>=1.19.5 in c:\\users\\hp\\appdata\\local\\programs\\python\\python312\\lib\\site-packages (from scikit-learn>=0.24.0->sklearn-crfsuite) (1.26.4)\n",
      "Requirement already satisfied: scipy>=1.6.0 in c:\\users\\hp\\appdata\\local\\programs\\python\\python312\\lib\\site-packages (from scikit-learn>=0.24.0->sklearn-crfsuite) (1.14.1)\n",
      "Requirement already satisfied: joblib>=1.2.0 in c:\\users\\hp\\appdata\\local\\programs\\python\\python312\\lib\\site-packages (from scikit-learn>=0.24.0->sklearn-crfsuite) (1.4.2)\n",
      "Requirement already satisfied: threadpoolctl>=3.1.0 in c:\\users\\hp\\appdata\\local\\programs\\python\\python312\\lib\\site-packages (from scikit-learn>=0.24.0->sklearn-crfsuite) (3.5.0)\n",
      "Requirement already satisfied: colorama in c:\\users\\hp\\appdata\\local\\programs\\python\\python312\\lib\\site-packages (from tqdm>=2.0->sklearn-crfsuite) (0.4.6)\n"
     ]
    }
   ],
   "source": [
    "!pip install pycrf\n",
    "!pip install sklearn-crfsuite"
   ]
  },
  {
   "cell_type": "code",
   "execution_count": 2,
   "id": "533adfa7-12ec-48d7-a477-a1ca4ed2bd0f",
   "metadata": {},
   "outputs": [
    {
     "name": "stdout",
     "output_type": "stream",
     "text": [
      "Collecting scikit-learn<0.24\n",
      "  Using cached scikit-learn-0.23.2.tar.gz (7.2 MB)\n",
      "  Installing build dependencies: started\n",
      "  Installing build dependencies: finished with status 'error'\n"
     ]
    },
    {
     "name": "stderr",
     "output_type": "stream",
     "text": [
      "  error: subprocess-exited-with-error\n",
      "  \n",
      "  pip subprocess to install build dependencies did not run successfully.\n",
      "  exit code: 1\n",
      "  \n",
      "  [63 lines of output]\n",
      "  Ignoring numpy: markers 'python_version == \"3.6\" and platform_system != \"AIX\" and platform_python_implementation == \"CPython\"' don't match your environment\n",
      "  Ignoring numpy: markers 'python_version == \"3.6\" and platform_system != \"AIX\" and platform_python_implementation != \"CPython\"' don't match your environment\n",
      "  Ignoring numpy: markers 'python_version == \"3.7\" and platform_system != \"AIX\"' don't match your environment\n",
      "  Ignoring numpy: markers 'python_version == \"3.6\" and platform_system == \"AIX\"' don't match your environment\n",
      "  Ignoring numpy: markers 'python_version == \"3.7\" and platform_system == \"AIX\"' don't match your environment\n",
      "  Ignoring numpy: markers 'python_version >= \"3.8\" and platform_system == \"AIX\"' don't match your environment\n",
      "  Collecting setuptools\n",
      "    Using cached setuptools-75.1.0-py3-none-any.whl.metadata (6.9 kB)\n",
      "  Collecting wheel\n",
      "    Using cached wheel-0.44.0-py3-none-any.whl.metadata (2.3 kB)\n",
      "  Collecting Cython>=0.28.5\n",
      "    Using cached Cython-3.0.11-cp312-cp312-win_amd64.whl.metadata (3.2 kB)\n",
      "  Collecting numpy==1.17.3\n",
      "    Using cached numpy-1.17.3.zip (6.4 MB)\n",
      "    Installing build dependencies: started\n",
      "    Installing build dependencies: finished with status 'done'\n",
      "    Getting requirements to build wheel: started\n",
      "    Getting requirements to build wheel: finished with status 'done'\n",
      "    Preparing metadata (pyproject.toml): started\n",
      "    Preparing metadata (pyproject.toml): finished with status 'error'\n",
      "    error: subprocess-exited-with-error\n",
      "  \n",
      "    Preparing metadata (pyproject.toml) did not run successfully.\n",
      "    exit code: 1\n",
      "  \n",
      "    [26 lines of output]\n",
      "    Running from numpy source directory.\n",
      "    <string>:418: UserWarning: Unrecognized setuptools command, proceeding with generating Cython sources and expanding templates\n",
      "    Traceback (most recent call last):\n",
      "      File \"C:\\Users\\HP\\AppData\\Local\\Programs\\Python\\Python312\\Lib\\site-packages\\pip\\_vendor\\pyproject_hooks\\_in_process\\_in_process.py\", line 353, in <module>\n",
      "        main()\n",
      "      File \"C:\\Users\\HP\\AppData\\Local\\Programs\\Python\\Python312\\Lib\\site-packages\\pip\\_vendor\\pyproject_hooks\\_in_process\\_in_process.py\", line 335, in main\n",
      "        json_out['return_val'] = hook(**hook_input['kwargs'])\n",
      "                                 ^^^^^^^^^^^^^^^^^^^^^^^^^^^^\n",
      "      File \"C:\\Users\\HP\\AppData\\Local\\Programs\\Python\\Python312\\Lib\\site-packages\\pip\\_vendor\\pyproject_hooks\\_in_process\\_in_process.py\", line 149, in prepare_metadata_for_build_wheel\n",
      "        return hook(metadata_directory, config_settings)\n",
      "               ^^^^^^^^^^^^^^^^^^^^^^^^^^^^^^^^^^^^^^^^^\n",
      "      File \"C:\\Users\\HP\\AppData\\Local\\Temp\\pip-build-env-dpa80kcu\\overlay\\Lib\\site-packages\\setuptools\\build_meta.py\", line 373, in prepare_metadata_for_build_wheel\n",
      "        self.run_setup()\n",
      "      File \"C:\\Users\\HP\\AppData\\Local\\Temp\\pip-build-env-dpa80kcu\\overlay\\Lib\\site-packages\\setuptools\\build_meta.py\", line 503, in run_setup\n",
      "        super().run_setup(setup_script=setup_script)\n",
      "      File \"C:\\Users\\HP\\AppData\\Local\\Temp\\pip-build-env-dpa80kcu\\overlay\\Lib\\site-packages\\setuptools\\build_meta.py\", line 318, in run_setup\n",
      "        exec(code, locals())\n",
      "      File \"<string>\", line 443, in <module>\n",
      "      File \"<string>\", line 422, in setup_package\n",
      "      File \"C:\\Users\\HP\\AppData\\Local\\Temp\\pip-install-a5kn1edg\\numpy_a5d7dc6605e841a2b8dfc81863e00162\\numpy\\distutils\\core.py\", line 26, in <module>\n",
      "        from numpy.distutils.command import config, config_compiler, \\\n",
      "      File \"C:\\Users\\HP\\AppData\\Local\\Temp\\pip-install-a5kn1edg\\numpy_a5d7dc6605e841a2b8dfc81863e00162\\numpy\\distutils\\command\\config.py\", line 20, in <module>\n",
      "        from numpy.distutils.mingw32ccompiler import generate_manifest\n",
      "      File \"C:\\Users\\HP\\AppData\\Local\\Temp\\pip-install-a5kn1edg\\numpy_a5d7dc6605e841a2b8dfc81863e00162\\numpy\\distutils\\mingw32ccompiler.py\", line 34, in <module>\n",
      "        from distutils.msvccompiler import get_build_version as get_build_msvc_version\n",
      "    ModuleNotFoundError: No module named 'distutils.msvccompiler'\n",
      "    [end of output]\n",
      "  \n",
      "    note: This error originates from a subprocess, and is likely not a problem with pip.\n",
      "  error: metadata-generation-failed\n",
      "  \n",
      "  Encountered error while generating package metadata.\n",
      "  \n",
      "  See above for output.\n",
      "  \n",
      "  note: This is an issue with the package mentioned above, not pip.\n",
      "  hint: See above for details.\n",
      "  [end of output]\n",
      "  \n",
      "  note: This error originates from a subprocess, and is likely not a problem with pip.\n",
      "error: subprocess-exited-with-error\n",
      "\n",
      "pip subprocess to install build dependencies did not run successfully.\n",
      "exit code: 1\n",
      "\n",
      "See above for output.\n",
      "\n",
      "note: This error originates from a subprocess, and is likely not a problem with pip.\n"
     ]
    }
   ],
   "source": [
    "!pip install -U \"scikit-learn<0.24\""
   ]
  },
  {
   "cell_type": "code",
   "execution_count": 3,
   "id": "f6bda9c8-7e20-45d3-9966-8fddda5577c5",
   "metadata": {},
   "outputs": [
    {
     "name": "stdout",
     "output_type": "stream",
     "text": [
      "Requirement already satisfied: pandas in c:\\users\\hp\\appdata\\local\\programs\\python\\python312\\lib\\site-packages (2.2.2)\n",
      "Requirement already satisfied: spacy in c:\\users\\hp\\appdata\\local\\programs\\python\\python312\\lib\\site-packages (3.7.6)\n",
      "Requirement already satisfied: numpy>=1.26.0 in c:\\users\\hp\\appdata\\local\\programs\\python\\python312\\lib\\site-packages (from pandas) (1.26.4)\n",
      "Requirement already satisfied: python-dateutil>=2.8.2 in c:\\users\\hp\\appdata\\local\\programs\\python\\python312\\lib\\site-packages (from pandas) (2.9.0.post0)\n",
      "Requirement already satisfied: pytz>=2020.1 in c:\\users\\hp\\appdata\\local\\programs\\python\\python312\\lib\\site-packages (from pandas) (2024.1)\n",
      "Requirement already satisfied: tzdata>=2022.7 in c:\\users\\hp\\appdata\\local\\programs\\python\\python312\\lib\\site-packages (from pandas) (2024.1)\n",
      "Requirement already satisfied: spacy-legacy<3.1.0,>=3.0.11 in c:\\users\\hp\\appdata\\local\\programs\\python\\python312\\lib\\site-packages (from spacy) (3.0.12)\n",
      "Requirement already satisfied: spacy-loggers<2.0.0,>=1.0.0 in c:\\users\\hp\\appdata\\local\\programs\\python\\python312\\lib\\site-packages (from spacy) (1.0.5)\n",
      "Requirement already satisfied: murmurhash<1.1.0,>=0.28.0 in c:\\users\\hp\\appdata\\local\\programs\\python\\python312\\lib\\site-packages (from spacy) (1.0.10)\n",
      "Requirement already satisfied: cymem<2.1.0,>=2.0.2 in c:\\users\\hp\\appdata\\local\\programs\\python\\python312\\lib\\site-packages (from spacy) (2.0.8)\n",
      "Requirement already satisfied: preshed<3.1.0,>=3.0.2 in c:\\users\\hp\\appdata\\local\\programs\\python\\python312\\lib\\site-packages (from spacy) (3.0.9)\n",
      "Requirement already satisfied: thinc<8.3.0,>=8.2.2 in c:\\users\\hp\\appdata\\local\\programs\\python\\python312\\lib\\site-packages (from spacy) (8.2.5)\n",
      "Requirement already satisfied: wasabi<1.2.0,>=0.9.1 in c:\\users\\hp\\appdata\\local\\programs\\python\\python312\\lib\\site-packages (from spacy) (1.1.3)\n",
      "Requirement already satisfied: srsly<3.0.0,>=2.4.3 in c:\\users\\hp\\appdata\\local\\programs\\python\\python312\\lib\\site-packages (from spacy) (2.4.8)\n",
      "Requirement already satisfied: catalogue<2.1.0,>=2.0.6 in c:\\users\\hp\\appdata\\local\\programs\\python\\python312\\lib\\site-packages (from spacy) (2.0.10)\n",
      "Requirement already satisfied: weasel<0.5.0,>=0.1.0 in c:\\users\\hp\\appdata\\local\\programs\\python\\python312\\lib\\site-packages (from spacy) (0.4.1)\n",
      "Requirement already satisfied: typer<1.0.0,>=0.3.0 in c:\\users\\hp\\appdata\\local\\programs\\python\\python312\\lib\\site-packages (from spacy) (0.12.5)\n",
      "Requirement already satisfied: tqdm<5.0.0,>=4.38.0 in c:\\users\\hp\\appdata\\local\\programs\\python\\python312\\lib\\site-packages (from spacy) (4.66.5)\n",
      "Requirement already satisfied: requests<3.0.0,>=2.13.0 in c:\\users\\hp\\appdata\\local\\programs\\python\\python312\\lib\\site-packages (from spacy) (2.32.3)\n",
      "Requirement already satisfied: pydantic!=1.8,!=1.8.1,<3.0.0,>=1.7.4 in c:\\users\\hp\\appdata\\local\\programs\\python\\python312\\lib\\site-packages (from spacy) (2.8.2)\n",
      "Requirement already satisfied: jinja2 in c:\\users\\hp\\appdata\\local\\programs\\python\\python312\\lib\\site-packages (from spacy) (3.1.4)\n",
      "Requirement already satisfied: setuptools in c:\\users\\hp\\appdata\\local\\programs\\python\\python312\\lib\\site-packages (from spacy) (72.2.0)\n",
      "Requirement already satisfied: packaging>=20.0 in c:\\users\\hp\\appdata\\local\\programs\\python\\python312\\lib\\site-packages (from spacy) (24.1)\n",
      "Requirement already satisfied: langcodes<4.0.0,>=3.2.0 in c:\\users\\hp\\appdata\\local\\programs\\python\\python312\\lib\\site-packages (from spacy) (3.4.0)\n",
      "Requirement already satisfied: language-data>=1.2 in c:\\users\\hp\\appdata\\local\\programs\\python\\python312\\lib\\site-packages (from langcodes<4.0.0,>=3.2.0->spacy) (1.2.0)\n",
      "Requirement already satisfied: annotated-types>=0.4.0 in c:\\users\\hp\\appdata\\local\\programs\\python\\python312\\lib\\site-packages (from pydantic!=1.8,!=1.8.1,<3.0.0,>=1.7.4->spacy) (0.7.0)\n",
      "Requirement already satisfied: pydantic-core==2.20.1 in c:\\users\\hp\\appdata\\local\\programs\\python\\python312\\lib\\site-packages (from pydantic!=1.8,!=1.8.1,<3.0.0,>=1.7.4->spacy) (2.20.1)\n",
      "Requirement already satisfied: typing-extensions>=4.6.1 in c:\\users\\hp\\appdata\\local\\programs\\python\\python312\\lib\\site-packages (from pydantic!=1.8,!=1.8.1,<3.0.0,>=1.7.4->spacy) (4.12.2)\n",
      "Requirement already satisfied: six>=1.5 in c:\\users\\hp\\appdata\\local\\programs\\python\\python312\\lib\\site-packages (from python-dateutil>=2.8.2->pandas) (1.16.0)\n",
      "Requirement already satisfied: charset-normalizer<4,>=2 in c:\\users\\hp\\appdata\\local\\programs\\python\\python312\\lib\\site-packages (from requests<3.0.0,>=2.13.0->spacy) (3.3.2)\n",
      "Requirement already satisfied: idna<4,>=2.5 in c:\\users\\hp\\appdata\\local\\programs\\python\\python312\\lib\\site-packages (from requests<3.0.0,>=2.13.0->spacy) (3.7)\n",
      "Requirement already satisfied: urllib3<3,>=1.21.1 in c:\\users\\hp\\appdata\\local\\programs\\python\\python312\\lib\\site-packages (from requests<3.0.0,>=2.13.0->spacy) (2.2.2)\n",
      "Requirement already satisfied: certifi>=2017.4.17 in c:\\users\\hp\\appdata\\local\\programs\\python\\python312\\lib\\site-packages (from requests<3.0.0,>=2.13.0->spacy) (2024.7.4)\n",
      "Requirement already satisfied: blis<0.8.0,>=0.7.8 in c:\\users\\hp\\appdata\\local\\programs\\python\\python312\\lib\\site-packages (from thinc<8.3.0,>=8.2.2->spacy) (0.7.11)\n",
      "Requirement already satisfied: confection<1.0.0,>=0.0.1 in c:\\users\\hp\\appdata\\local\\programs\\python\\python312\\lib\\site-packages (from thinc<8.3.0,>=8.2.2->spacy) (0.1.5)\n",
      "Requirement already satisfied: colorama in c:\\users\\hp\\appdata\\local\\programs\\python\\python312\\lib\\site-packages (from tqdm<5.0.0,>=4.38.0->spacy) (0.4.6)\n",
      "Requirement already satisfied: click>=8.0.0 in c:\\users\\hp\\appdata\\local\\programs\\python\\python312\\lib\\site-packages (from typer<1.0.0,>=0.3.0->spacy) (8.1.7)\n",
      "Requirement already satisfied: shellingham>=1.3.0 in c:\\users\\hp\\appdata\\local\\programs\\python\\python312\\lib\\site-packages (from typer<1.0.0,>=0.3.0->spacy) (1.5.4)\n",
      "Requirement already satisfied: rich>=10.11.0 in c:\\users\\hp\\appdata\\local\\programs\\python\\python312\\lib\\site-packages (from typer<1.0.0,>=0.3.0->spacy) (13.8.0)\n",
      "Requirement already satisfied: cloudpathlib<1.0.0,>=0.7.0 in c:\\users\\hp\\appdata\\local\\programs\\python\\python312\\lib\\site-packages (from weasel<0.5.0,>=0.1.0->spacy) (0.19.0)\n",
      "Requirement already satisfied: smart-open<8.0.0,>=5.2.1 in c:\\users\\hp\\appdata\\local\\programs\\python\\python312\\lib\\site-packages (from weasel<0.5.0,>=0.1.0->spacy) (7.0.4)\n",
      "Requirement already satisfied: MarkupSafe>=2.0 in c:\\users\\hp\\appdata\\local\\programs\\python\\python312\\lib\\site-packages (from jinja2->spacy) (2.1.5)\n",
      "Requirement already satisfied: marisa-trie>=0.7.7 in c:\\users\\hp\\appdata\\local\\programs\\python\\python312\\lib\\site-packages (from language-data>=1.2->langcodes<4.0.0,>=3.2.0->spacy) (1.2.0)\n",
      "Requirement already satisfied: markdown-it-py>=2.2.0 in c:\\users\\hp\\appdata\\local\\programs\\python\\python312\\lib\\site-packages (from rich>=10.11.0->typer<1.0.0,>=0.3.0->spacy) (3.0.0)\n",
      "Requirement already satisfied: pygments<3.0.0,>=2.13.0 in c:\\users\\hp\\appdata\\local\\programs\\python\\python312\\lib\\site-packages (from rich>=10.11.0->typer<1.0.0,>=0.3.0->spacy) (2.18.0)\n",
      "Requirement already satisfied: wrapt in c:\\users\\hp\\appdata\\local\\programs\\python\\python312\\lib\\site-packages (from smart-open<8.0.0,>=5.2.1->weasel<0.5.0,>=0.1.0->spacy) (1.16.0)\n",
      "Requirement already satisfied: mdurl~=0.1 in c:\\users\\hp\\appdata\\local\\programs\\python\\python312\\lib\\site-packages (from markdown-it-py>=2.2.0->rich>=10.11.0->typer<1.0.0,>=0.3.0->spacy) (0.1.2)\n"
     ]
    }
   ],
   "source": [
    "!pip install pandas spacy\n"
   ]
  },
  {
   "cell_type": "code",
   "execution_count": 4,
   "id": "84cd1728-30c6-4c1a-894e-a647b3666cc7",
   "metadata": {},
   "outputs": [
    {
     "name": "stdout",
     "output_type": "stream",
     "text": [
      "Requirement already satisfied: scikit-learn in c:\\users\\hp\\appdata\\local\\programs\\python\\python312\\lib\\site-packages (1.5.1)\n",
      "Requirement already satisfied: numpy>=1.19.5 in c:\\users\\hp\\appdata\\local\\programs\\python\\python312\\lib\\site-packages (from scikit-learn) (1.26.4)\n",
      "Requirement already satisfied: scipy>=1.6.0 in c:\\users\\hp\\appdata\\local\\programs\\python\\python312\\lib\\site-packages (from scikit-learn) (1.14.1)\n",
      "Requirement already satisfied: joblib>=1.2.0 in c:\\users\\hp\\appdata\\local\\programs\\python\\python312\\lib\\site-packages (from scikit-learn) (1.4.2)\n",
      "Requirement already satisfied: threadpoolctl>=3.1.0 in c:\\users\\hp\\appdata\\local\\programs\\python\\python312\\lib\\site-packages (from scikit-learn) (3.5.0)\n"
     ]
    }
   ],
   "source": [
    "!pip install scikit-learn"
   ]
  },
  {
   "cell_type": "code",
   "execution_count": 5,
   "id": "db69553a-5d01-4edd-bb67-67177651c741",
   "metadata": {},
   "outputs": [],
   "source": [
    "# Library Import\n",
    "import pandas as pd\n",
    "import re\n",
    "import spacy\n",
    "import warnings\n",
    "warnings.filterwarnings('ignore')\n",
    "\n",
    "# Import model and metrics\n",
    "from sklearn_crfsuite import CRF, scorers, metrics"
   ]
  },
  {
   "cell_type": "code",
   "execution_count": 6,
   "id": "9d2614f0-5665-4cfe-a661-340adc2ae905",
   "metadata": {},
   "outputs": [],
   "source": [
    "# Extract sentence from words\n",
    "def content_extract(file_path='',sep='\\t'):\n",
    "    '''It helps to extract the word based on the separator to form the sentence'''\n",
    "    try:\n",
    "        with open (file_path,'r',encoding='utf-8') as text:\n",
    "            if text.mode  == 'r':\n",
    "                content = text.readlines()\n",
    "        sentence = []\n",
    "        final_sentence=''\n",
    "        for c in content:\n",
    "            content_word = c.strip('\\n')\n",
    "            if content_word == '':\n",
    "                #Once it get matched with separator, it appends previous extracted concatenated string as sentence\n",
    "#                 final_sentence = re.sub('(?<=[\\(]) | (?=[%\\',)])','', final_sentence)\n",
    "                sentence.append(final_sentence.strip(' '))\n",
    "\n",
    "                #Initialize for next sentence\n",
    "                final_sentence=''\n",
    "            else:\n",
    "                # Till the loop identifies the separator it concatenates string\n",
    "                final_sentence+=content_word+' '\n",
    "        print('Total identified value: ',len(sentence),'\\n')\n",
    "        print('Sample display value:\\n',sentence[:5])\n",
    "        return sentence\n",
    "    except FileNotFoundError:\n",
    "        print('Check and provide proper file path')"
   ]
  },
  {
   "cell_type": "code",
   "execution_count": 7,
   "id": "3c3b9650-ce2d-42b5-9ef8-53b4b02c0e3a",
   "metadata": {},
   "outputs": [],
   "source": [
    "# A class to retrieve the sentences details from the dataframe\n",
    "class sentencedetail(object):\n",
    "    def __init__(self, data):\n",
    "        self.data = data\n",
    "        self.empty = False\n",
    "        agg_func = lambda s: [(w, p, l) for w, p, l in zip(s[\"word\"].values.tolist(), s[\"pos\"].values.tolist(),s[\"label\"].values.tolist())]\n",
    "        self.grouped = self.data.groupby(\"sentence\").apply(agg_func)\n",
    "        self.sentences = [s for s in self.grouped]"
   ]
  },
  {
   "cell_type": "code",
   "execution_count": 8,
   "id": "3829a74d-5fc2-4706-b989-db36f308c7fa",
   "metadata": {},
   "outputs": [],
   "source": [
    "# Feature set\n",
    "def word2features(sent, i):\n",
    "    word = sent[i][0]\n",
    "    postag = sent[i][1]\n",
    "\n",
    "    features = {\n",
    "        'bias': 1.0,\n",
    "        'word.lower()': word.lower(),\n",
    "        'word[0]': word[0],\n",
    "        'word[-1]': word[-1],\n",
    "        'word[-2:]': word[-2:],\n",
    "        'word.isupper()': word.isupper(),\n",
    "        'word.istitle()': word.istitle(),\n",
    "        'word.isdigit()': word.isdigit(),\n",
    "        'postag':postag,\n",
    "        'postag_isnounpronoun': postag in ['NOUN','PROPN'],\n",
    "        'postag[:2]': postag[:2],\n",
    "    }\n",
    "    if i > 0:\n",
    "        word1 = sent[i-1][0]\n",
    "        postag1 = sent[i-1][1]\n",
    "        features.update({\n",
    "            '-1:word.lower()': word1.lower(),\n",
    "            '-1:word[0]': word1[0],\n",
    "            '-1:word[-1]': word1[-1],\n",
    "            '-1:word.istitle()': word1.istitle(),\n",
    "            '-1:word.isupper()': word1.isupper(),\n",
    "            '-1:postag': postag1,\n",
    "            '-1:postag[:2]': postag1[:2],\n",
    "            '-1:postag_isnounpronoun': postag1 in ['NOUN','PROPN']\n",
    "        })\n",
    "    else:\n",
    "        features['BOS'] = True\n",
    "\n",
    "    if i < len(sent)-1:\n",
    "        word1 = sent[i+1][0]\n",
    "        postag1 = sent[i+1][1]\n",
    "        features.update({\n",
    "            '+1:word.lower()': word1.lower(),\n",
    "            '+1:word.istitle()': word1.istitle(),\n",
    "            '+1:word.isupper()': word1.isupper(),\n",
    "            '+1:postag': postag1,\n",
    "            '+1:postag[:2]': postag1[:2],\n",
    "            '+1:postag_isnounpronoun': postag1 in ['NOUN','PROPN']\n",
    "        })\n",
    "    else:\n",
    "        features['EOS'] = True\n",
    "\n",
    "    return features\n"
   ]
  },
  {
   "cell_type": "code",
   "execution_count": 9,
   "id": "fde1bdd5-c3a7-4cea-b280-e26e45b4717e",
   "metadata": {},
   "outputs": [],
   "source": [
    "# Define a function to extract features for a sentence.\n",
    "def sent2features(sent):\n",
    "    return [word2features(sent, i) for i in range(len(sent))]"
   ]
  },
  {
   "cell_type": "code",
   "execution_count": 10,
   "id": "f11cd903-9f96-43b3-9eb8-7135f6786fbd",
   "metadata": {},
   "outputs": [],
   "source": [
    "# Define a function to get the labels for a sentence.\n",
    "def sent2labels(sent):\n",
    "    return [label for token, postag, label in sent]"
   ]
  },
  {
   "cell_type": "code",
   "execution_count": 11,
   "id": "4f99fdf7-fea2-44b1-803f-c0af19a329e2",
   "metadata": {},
   "outputs": [
    {
     "name": "stdout",
     "output_type": "stream",
     "text": [
      "Total identified value:  2599 \n",
      "\n",
      "Sample display value:\n",
      " ['All live births > or = 23 weeks at the University of Vermont in 1995 ( n = 2395 ) were retrospectively analyzed for delivery route , indication for cesarean , gestational age , parity , and practice group ( to reflect risk status )', 'The total cesarean rate was 14.4 % ( 344 of 2395 ) , and the primary rate was 11.4 % ( 244 of 2144 )', 'Abnormal presentation was the most common indication ( 25.6 % , 88 of 344 )', \"The `` corrected '' cesarean rate ( maternal-fetal medicine and transported patients excluded ) was 12.4 % ( 273 of 2194 ) , and the `` corrected '' primary rate was 9.6 % ( 190 of 1975 )\", \"Arrest of dilation was the most common indication in both `` corrected '' subgroups ( 23.4 and 24.6 % , respectively )\"]\n",
      "<function content_extract at 0x000001AFA17D1BC0>\n"
     ]
    }
   ],
   "source": [
    "# Train sentence extraction from dataset\n",
    "train_sent = content_extract(file_path='train_sent',sep='\\n')\n",
    "print(content_extract)"
   ]
  },
  {
   "cell_type": "code",
   "execution_count": 12,
   "id": "23c7b85d-6b22-4238-9254-dd712adc51c4",
   "metadata": {},
   "outputs": [
    {
     "name": "stdout",
     "output_type": "stream",
     "text": [
      "Total identified value:  2599 \n",
      "\n",
      "Sample display value:\n",
      " ['O O O O O O O O O O O O O O O O O O O O O O O O O O O O O O O O O O O O O O O O O O O O O', 'O O O O O O O O O O O O O O O O O O O O O O O O O', 'O O O O O O O O O O O O O O O', 'O O O O O O O O O O O O O O O O O O O O O O O O O O O O O O O O O O O O O O', 'O O O O O O O O O O O O O O O O O O O O O O']\n"
     ]
    }
   ],
   "source": [
    "# Train label extraction from dataset\n",
    "train_label = content_extract(file_path='train_label',sep='\\n')"
   ]
  },
  {
   "cell_type": "code",
   "execution_count": 13,
   "id": "baf04ced-63c3-4952-8d7a-a087cffc3dc3",
   "metadata": {},
   "outputs": [
    {
     "name": "stdout",
     "output_type": "stream",
     "text": [
      "Total identified value:  1056 \n",
      "\n",
      "Sample display value:\n",
      " ['Furthermore , when all deliveries were analyzed , regardless of risk status but limited to gestational age > or = 36 weeks , the rates did not change ( 12.6 % , 280 of 2214 ; primary 9.2 % , 183 of 1994 )', 'As the ambient temperature increases , there is an increase in insensible fluid loss and the potential for dehydration', 'The daily high temperature ranged from 71 to 104 degrees F and AFI values ranged from 1.7 to 24.7 cm during the study period', 'There was a significant correlation between the 2- , 3- , and 4-day mean temperature and AFI , with the 4-day mean being the most significant ( r = 0.31 , p & # 60 ; 0.001 )', 'Fluctuations in ambient temperature are inversely correlated to changes in AFI']\n"
     ]
    }
   ],
   "source": [
    "# Test sentence extraction from dataset\n",
    "test_sent = content_extract(file_path='test_sent',sep='\\n')"
   ]
  },
  {
   "cell_type": "code",
   "execution_count": 14,
   "id": "aee49185-3af3-4bf4-834e-815648615669",
   "metadata": {},
   "outputs": [
    {
     "name": "stdout",
     "output_type": "stream",
     "text": [
      "Total identified value:  1056 \n",
      "\n",
      "Sample display value:\n",
      " ['O O O O O O O O O O O O O O O O O O O O O O O O O O O O O O O O O O O O O O O O O O O O', 'O O O O O O O O O O O O O O O O O O O', 'O O O O O O O O O O O O O O O O O O O O O O O O', 'O O O O O O O O O O O O O O O O O O O O O O O O O O O O O O O O O O O O O O', 'O O O O O O O O O O O']\n"
     ]
    }
   ],
   "source": [
    "# Test label extraction from dataset\n",
    "test_label = content_extract(file_path='test_label',sep='\\n')"
   ]
  },
  {
   "cell_type": "code",
   "execution_count": 15,
   "id": "bead6645-6281-4500-8903-ac29177e9b15",
   "metadata": {},
   "outputs": [
    {
     "name": "stdout",
     "output_type": "stream",
     "text": [
      "Collecting en-core-web-sm==3.7.1\n",
      "  Downloading https://github.com/explosion/spacy-models/releases/download/en_core_web_sm-3.7.1/en_core_web_sm-3.7.1-py3-none-any.whl (12.8 MB)\n",
      "     ---------------------------------------- 0.0/12.8 MB ? eta -:--:--\n",
      "     --- ------------------------------------ 1.0/12.8 MB 5.6 MB/s eta 0:00:03\n",
      "     --------- ------------------------------ 2.9/12.8 MB 7.3 MB/s eta 0:00:02\n",
      "     ------------ --------------------------- 3.9/12.8 MB 7.1 MB/s eta 0:00:02\n",
      "     --------------- ------------------------ 5.0/12.8 MB 6.0 MB/s eta 0:00:02\n",
      "     -------------------- ------------------- 6.6/12.8 MB 6.5 MB/s eta 0:00:01\n",
      "     ------------------------- -------------- 8.1/12.8 MB 6.6 MB/s eta 0:00:01\n",
      "     ----------------------------- ---------- 9.4/12.8 MB 6.7 MB/s eta 0:00:01\n",
      "     ----------------------------------- ---- 11.3/12.8 MB 6.9 MB/s eta 0:00:01\n",
      "     ---------------------------------------  12.6/12.8 MB 6.9 MB/s eta 0:00:01\n",
      "     ---------------------------------------- 12.8/12.8 MB 6.6 MB/s eta 0:00:00\n",
      "Requirement already satisfied: spacy<3.8.0,>=3.7.2 in c:\\users\\hp\\appdata\\local\\programs\\python\\python312\\lib\\site-packages (from en-core-web-sm==3.7.1) (3.7.6)\n",
      "Requirement already satisfied: spacy-legacy<3.1.0,>=3.0.11 in c:\\users\\hp\\appdata\\local\\programs\\python\\python312\\lib\\site-packages (from spacy<3.8.0,>=3.7.2->en-core-web-sm==3.7.1) (3.0.12)\n",
      "Requirement already satisfied: spacy-loggers<2.0.0,>=1.0.0 in c:\\users\\hp\\appdata\\local\\programs\\python\\python312\\lib\\site-packages (from spacy<3.8.0,>=3.7.2->en-core-web-sm==3.7.1) (1.0.5)\n",
      "Requirement already satisfied: murmurhash<1.1.0,>=0.28.0 in c:\\users\\hp\\appdata\\local\\programs\\python\\python312\\lib\\site-packages (from spacy<3.8.0,>=3.7.2->en-core-web-sm==3.7.1) (1.0.10)\n",
      "Requirement already satisfied: cymem<2.1.0,>=2.0.2 in c:\\users\\hp\\appdata\\local\\programs\\python\\python312\\lib\\site-packages (from spacy<3.8.0,>=3.7.2->en-core-web-sm==3.7.1) (2.0.8)\n",
      "Requirement already satisfied: preshed<3.1.0,>=3.0.2 in c:\\users\\hp\\appdata\\local\\programs\\python\\python312\\lib\\site-packages (from spacy<3.8.0,>=3.7.2->en-core-web-sm==3.7.1) (3.0.9)\n",
      "Requirement already satisfied: thinc<8.3.0,>=8.2.2 in c:\\users\\hp\\appdata\\local\\programs\\python\\python312\\lib\\site-packages (from spacy<3.8.0,>=3.7.2->en-core-web-sm==3.7.1) (8.2.5)\n",
      "Requirement already satisfied: wasabi<1.2.0,>=0.9.1 in c:\\users\\hp\\appdata\\local\\programs\\python\\python312\\lib\\site-packages (from spacy<3.8.0,>=3.7.2->en-core-web-sm==3.7.1) (1.1.3)\n",
      "Requirement already satisfied: srsly<3.0.0,>=2.4.3 in c:\\users\\hp\\appdata\\local\\programs\\python\\python312\\lib\\site-packages (from spacy<3.8.0,>=3.7.2->en-core-web-sm==3.7.1) (2.4.8)\n",
      "Requirement already satisfied: catalogue<2.1.0,>=2.0.6 in c:\\users\\hp\\appdata\\local\\programs\\python\\python312\\lib\\site-packages (from spacy<3.8.0,>=3.7.2->en-core-web-sm==3.7.1) (2.0.10)\n",
      "Requirement already satisfied: weasel<0.5.0,>=0.1.0 in c:\\users\\hp\\appdata\\local\\programs\\python\\python312\\lib\\site-packages (from spacy<3.8.0,>=3.7.2->en-core-web-sm==3.7.1) (0.4.1)\n",
      "Requirement already satisfied: typer<1.0.0,>=0.3.0 in c:\\users\\hp\\appdata\\local\\programs\\python\\python312\\lib\\site-packages (from spacy<3.8.0,>=3.7.2->en-core-web-sm==3.7.1) (0.12.5)\n",
      "Requirement already satisfied: tqdm<5.0.0,>=4.38.0 in c:\\users\\hp\\appdata\\local\\programs\\python\\python312\\lib\\site-packages (from spacy<3.8.0,>=3.7.2->en-core-web-sm==3.7.1) (4.66.5)\n",
      "Requirement already satisfied: requests<3.0.0,>=2.13.0 in c:\\users\\hp\\appdata\\local\\programs\\python\\python312\\lib\\site-packages (from spacy<3.8.0,>=3.7.2->en-core-web-sm==3.7.1) (2.32.3)\n",
      "Requirement already satisfied: pydantic!=1.8,!=1.8.1,<3.0.0,>=1.7.4 in c:\\users\\hp\\appdata\\local\\programs\\python\\python312\\lib\\site-packages (from spacy<3.8.0,>=3.7.2->en-core-web-sm==3.7.1) (2.8.2)\n",
      "Requirement already satisfied: jinja2 in c:\\users\\hp\\appdata\\local\\programs\\python\\python312\\lib\\site-packages (from spacy<3.8.0,>=3.7.2->en-core-web-sm==3.7.1) (3.1.4)\n",
      "Requirement already satisfied: setuptools in c:\\users\\hp\\appdata\\local\\programs\\python\\python312\\lib\\site-packages (from spacy<3.8.0,>=3.7.2->en-core-web-sm==3.7.1) (72.2.0)\n",
      "Requirement already satisfied: packaging>=20.0 in c:\\users\\hp\\appdata\\local\\programs\\python\\python312\\lib\\site-packages (from spacy<3.8.0,>=3.7.2->en-core-web-sm==3.7.1) (24.1)\n",
      "Requirement already satisfied: langcodes<4.0.0,>=3.2.0 in c:\\users\\hp\\appdata\\local\\programs\\python\\python312\\lib\\site-packages (from spacy<3.8.0,>=3.7.2->en-core-web-sm==3.7.1) (3.4.0)\n",
      "Requirement already satisfied: numpy>=1.19.0 in c:\\users\\hp\\appdata\\local\\programs\\python\\python312\\lib\\site-packages (from spacy<3.8.0,>=3.7.2->en-core-web-sm==3.7.1) (1.26.4)\n",
      "Requirement already satisfied: language-data>=1.2 in c:\\users\\hp\\appdata\\local\\programs\\python\\python312\\lib\\site-packages (from langcodes<4.0.0,>=3.2.0->spacy<3.8.0,>=3.7.2->en-core-web-sm==3.7.1) (1.2.0)\n",
      "Requirement already satisfied: annotated-types>=0.4.0 in c:\\users\\hp\\appdata\\local\\programs\\python\\python312\\lib\\site-packages (from pydantic!=1.8,!=1.8.1,<3.0.0,>=1.7.4->spacy<3.8.0,>=3.7.2->en-core-web-sm==3.7.1) (0.7.0)\n",
      "Requirement already satisfied: pydantic-core==2.20.1 in c:\\users\\hp\\appdata\\local\\programs\\python\\python312\\lib\\site-packages (from pydantic!=1.8,!=1.8.1,<3.0.0,>=1.7.4->spacy<3.8.0,>=3.7.2->en-core-web-sm==3.7.1) (2.20.1)\n",
      "Requirement already satisfied: typing-extensions>=4.6.1 in c:\\users\\hp\\appdata\\local\\programs\\python\\python312\\lib\\site-packages (from pydantic!=1.8,!=1.8.1,<3.0.0,>=1.7.4->spacy<3.8.0,>=3.7.2->en-core-web-sm==3.7.1) (4.12.2)\n",
      "Requirement already satisfied: charset-normalizer<4,>=2 in c:\\users\\hp\\appdata\\local\\programs\\python\\python312\\lib\\site-packages (from requests<3.0.0,>=2.13.0->spacy<3.8.0,>=3.7.2->en-core-web-sm==3.7.1) (3.3.2)\n",
      "Requirement already satisfied: idna<4,>=2.5 in c:\\users\\hp\\appdata\\local\\programs\\python\\python312\\lib\\site-packages (from requests<3.0.0,>=2.13.0->spacy<3.8.0,>=3.7.2->en-core-web-sm==3.7.1) (3.7)\n",
      "Requirement already satisfied: urllib3<3,>=1.21.1 in c:\\users\\hp\\appdata\\local\\programs\\python\\python312\\lib\\site-packages (from requests<3.0.0,>=2.13.0->spacy<3.8.0,>=3.7.2->en-core-web-sm==3.7.1) (2.2.2)\n",
      "Requirement already satisfied: certifi>=2017.4.17 in c:\\users\\hp\\appdata\\local\\programs\\python\\python312\\lib\\site-packages (from requests<3.0.0,>=2.13.0->spacy<3.8.0,>=3.7.2->en-core-web-sm==3.7.1) (2024.7.4)\n",
      "Requirement already satisfied: blis<0.8.0,>=0.7.8 in c:\\users\\hp\\appdata\\local\\programs\\python\\python312\\lib\\site-packages (from thinc<8.3.0,>=8.2.2->spacy<3.8.0,>=3.7.2->en-core-web-sm==3.7.1) (0.7.11)\n",
      "Requirement already satisfied: confection<1.0.0,>=0.0.1 in c:\\users\\hp\\appdata\\local\\programs\\python\\python312\\lib\\site-packages (from thinc<8.3.0,>=8.2.2->spacy<3.8.0,>=3.7.2->en-core-web-sm==3.7.1) (0.1.5)\n",
      "Requirement already satisfied: colorama in c:\\users\\hp\\appdata\\local\\programs\\python\\python312\\lib\\site-packages (from tqdm<5.0.0,>=4.38.0->spacy<3.8.0,>=3.7.2->en-core-web-sm==3.7.1) (0.4.6)\n",
      "Requirement already satisfied: click>=8.0.0 in c:\\users\\hp\\appdata\\local\\programs\\python\\python312\\lib\\site-packages (from typer<1.0.0,>=0.3.0->spacy<3.8.0,>=3.7.2->en-core-web-sm==3.7.1) (8.1.7)\n",
      "Requirement already satisfied: shellingham>=1.3.0 in c:\\users\\hp\\appdata\\local\\programs\\python\\python312\\lib\\site-packages (from typer<1.0.0,>=0.3.0->spacy<3.8.0,>=3.7.2->en-core-web-sm==3.7.1) (1.5.4)\n",
      "Requirement already satisfied: rich>=10.11.0 in c:\\users\\hp\\appdata\\local\\programs\\python\\python312\\lib\\site-packages (from typer<1.0.0,>=0.3.0->spacy<3.8.0,>=3.7.2->en-core-web-sm==3.7.1) (13.8.0)\n",
      "Requirement already satisfied: cloudpathlib<1.0.0,>=0.7.0 in c:\\users\\hp\\appdata\\local\\programs\\python\\python312\\lib\\site-packages (from weasel<0.5.0,>=0.1.0->spacy<3.8.0,>=3.7.2->en-core-web-sm==3.7.1) (0.19.0)\n",
      "Requirement already satisfied: smart-open<8.0.0,>=5.2.1 in c:\\users\\hp\\appdata\\local\\programs\\python\\python312\\lib\\site-packages (from weasel<0.5.0,>=0.1.0->spacy<3.8.0,>=3.7.2->en-core-web-sm==3.7.1) (7.0.4)\n",
      "Requirement already satisfied: MarkupSafe>=2.0 in c:\\users\\hp\\appdata\\local\\programs\\python\\python312\\lib\\site-packages (from jinja2->spacy<3.8.0,>=3.7.2->en-core-web-sm==3.7.1) (2.1.5)\n",
      "Requirement already satisfied: marisa-trie>=0.7.7 in c:\\users\\hp\\appdata\\local\\programs\\python\\python312\\lib\\site-packages (from language-data>=1.2->langcodes<4.0.0,>=3.2.0->spacy<3.8.0,>=3.7.2->en-core-web-sm==3.7.1) (1.2.0)\n",
      "Requirement already satisfied: markdown-it-py>=2.2.0 in c:\\users\\hp\\appdata\\local\\programs\\python\\python312\\lib\\site-packages (from rich>=10.11.0->typer<1.0.0,>=0.3.0->spacy<3.8.0,>=3.7.2->en-core-web-sm==3.7.1) (3.0.0)\n",
      "Requirement already satisfied: pygments<3.0.0,>=2.13.0 in c:\\users\\hp\\appdata\\local\\programs\\python\\python312\\lib\\site-packages (from rich>=10.11.0->typer<1.0.0,>=0.3.0->spacy<3.8.0,>=3.7.2->en-core-web-sm==3.7.1) (2.18.0)\n",
      "Requirement already satisfied: wrapt in c:\\users\\hp\\appdata\\local\\programs\\python\\python312\\lib\\site-packages (from smart-open<8.0.0,>=5.2.1->weasel<0.5.0,>=0.1.0->spacy<3.8.0,>=3.7.2->en-core-web-sm==3.7.1) (1.16.0)\n",
      "Requirement already satisfied: mdurl~=0.1 in c:\\users\\hp\\appdata\\local\\programs\\python\\python312\\lib\\site-packages (from markdown-it-py>=2.2.0->rich>=10.11.0->typer<1.0.0,>=0.3.0->spacy<3.8.0,>=3.7.2->en-core-web-sm==3.7.1) (0.1.2)\n",
      "\u001b[38;5;2m[+] Download and installation successful\u001b[0m\n",
      "You can now load the package via spacy.load('en_core_web_sm')\n"
     ]
    }
   ],
   "source": [
    "!python -m spacy download en_core_web_sm\n"
   ]
  },
  {
   "cell_type": "code",
   "execution_count": 16,
   "id": "485f8126-d862-469e-a333-a654281d74ab",
   "metadata": {},
   "outputs": [],
   "source": [
    "# Import spacy small library to find medical related entities\n",
    "import spacy\n",
    "nlp = spacy.load(\"en_core_web_sm\")\n"
   ]
  },
  {
   "cell_type": "code",
   "execution_count": 17,
   "id": "d785cddc-7e4b-44c8-b9bc-7f7658dabf76",
   "metadata": {},
   "outputs": [],
   "source": [
    "# Dataframe of POS tagging,Lemma word and Label for Train and test sentence\n",
    "train_df = pd.DataFrame(columns=['sentence','word','lemma','pos','label'])\n",
    "test_df = pd.DataFrame(columns=['sentence','word','lemma','pos','label'])"
   ]
  },
  {
   "cell_type": "code",
   "execution_count": 18,
   "id": "c8388529-2e24-4cab-a788-532622769f1b",
   "metadata": {},
   "outputs": [
    {
     "data": {
      "text/html": [
       "<div>\n",
       "<style scoped>\n",
       "    .dataframe tbody tr th:only-of-type {\n",
       "        vertical-align: middle;\n",
       "    }\n",
       "\n",
       "    .dataframe tbody tr th {\n",
       "        vertical-align: top;\n",
       "    }\n",
       "\n",
       "    .dataframe thead th {\n",
       "        text-align: right;\n",
       "    }\n",
       "</style>\n",
       "<table border=\"1\" class=\"dataframe\">\n",
       "  <thead>\n",
       "    <tr style=\"text-align: right;\">\n",
       "      <th></th>\n",
       "      <th>sentence</th>\n",
       "      <th>word</th>\n",
       "      <th>lemma</th>\n",
       "      <th>pos</th>\n",
       "      <th>label</th>\n",
       "    </tr>\n",
       "  </thead>\n",
       "  <tbody>\n",
       "    <tr>\n",
       "      <th>0</th>\n",
       "      <td>1</td>\n",
       "      <td>All</td>\n",
       "      <td>all</td>\n",
       "      <td>DET</td>\n",
       "      <td>O</td>\n",
       "    </tr>\n",
       "    <tr>\n",
       "      <th>1</th>\n",
       "      <td>1</td>\n",
       "      <td>live</td>\n",
       "      <td>live</td>\n",
       "      <td>ADJ</td>\n",
       "      <td>O</td>\n",
       "    </tr>\n",
       "    <tr>\n",
       "      <th>2</th>\n",
       "      <td>1</td>\n",
       "      <td>births</td>\n",
       "      <td>birth</td>\n",
       "      <td>NOUN</td>\n",
       "      <td>O</td>\n",
       "    </tr>\n",
       "    <tr>\n",
       "      <th>3</th>\n",
       "      <td>1</td>\n",
       "      <td>&gt;</td>\n",
       "      <td>&gt;</td>\n",
       "      <td>X</td>\n",
       "      <td>O</td>\n",
       "    </tr>\n",
       "    <tr>\n",
       "      <th>4</th>\n",
       "      <td>1</td>\n",
       "      <td>or</td>\n",
       "      <td>or</td>\n",
       "      <td>CCONJ</td>\n",
       "      <td>O</td>\n",
       "    </tr>\n",
       "  </tbody>\n",
       "</table>\n",
       "</div>"
      ],
      "text/plain": [
       "   sentence    word  lemma    pos label\n",
       "0         1     All    all    DET     O\n",
       "1         1    live   live    ADJ     O\n",
       "2         1  births  birth   NOUN     O\n",
       "3         1       >      >      X     O\n",
       "4         1      or     or  CCONJ     O"
      ]
     },
     "execution_count": 18,
     "metadata": {},
     "output_type": "execute_result"
    }
   ],
   "source": [
    "import pandas as pd\n",
    "\n",
    "# Initialize list to store rows\n",
    "rows = []\n",
    "\n",
    "i = 0  # Sentence count\n",
    "\n",
    "# Process each sentence and corresponding labels\n",
    "for sent, label in zip(train_sent, train_label):\n",
    "    i += 1  # Increment sentence count\n",
    "    \n",
    "    # Process the entire sentence with spaCy\n",
    "    doc = nlp(sent)\n",
    "    \n",
    "    # Tokenize the label string the same way as the sentence\n",
    "    label_tokens = label.split()  # Assuming labels are split by spaces\n",
    "    \n",
    "    # Ensure the sentence and label have the same number of tokens\n",
    "    if len(doc) != len(label_tokens):\n",
    "        continue\n",
    "\n",
    "    # Iterate through tokens and labels\n",
    "    for tok, l in zip(doc, label_tokens):\n",
    "        # Append the row to the list\n",
    "        rows.append([i, tok.text, tok.lemma_, tok.pos_, l])\n",
    "\n",
    "# Create DataFrame from the list of rows\n",
    "train_df = pd.DataFrame(rows, columns=['sentence', 'word', 'lemma', 'pos', 'label'])\n",
    "\n",
    "# Check the resulting DataFrame\n",
    "train_df.head()\n"
   ]
  },
  {
   "cell_type": "code",
   "execution_count": 19,
   "id": "20fb162d-7512-409a-a606-f10c9690c536",
   "metadata": {},
   "outputs": [],
   "source": [
    "#train datframe\n",
    "\n",
    "#i=0 #Sentence count\n",
    "#j=0 #Iteration count\n",
    "\n",
    "#for sent,label in zip(train_sent,train_label):\n",
    "#    i+=1\n",
    "#   for s,l in zip(sent.split(),label.split()):\n",
    "#        doc = nlp(s)\n",
    "#        for tok in doc:\n",
    "#            train_df.loc[j,['sentence','word','lemma','pos','label']] = [i,tok.text,tok.lemma_,tok.pos_,l]\n",
    "#            j+=1"
   ]
  },
  {
   "cell_type": "code",
   "execution_count": 20,
   "id": "e3497662-6161-42ce-8ff3-83438afa5c1c",
   "metadata": {},
   "outputs": [],
   "source": [
    "#test datframe\n",
    "\n",
    "#i=0 #Sentence count\n",
    "#j=0 #Iteration count\n",
    "\n",
    "#for sent,label in zip(test_sent,test_label):\n",
    "#    i+=1\n",
    "#    for s,l in zip(sent.split(),label.split()):\n",
    "#        doc = nlp(s)\n",
    "#        for tok in doc:\n",
    "#            test_df.loc[j,['sentence','word','lemma','pos','label']] = [i,tok.text,tok.lemma_,tok.pos_,l]\n",
    "#            j+=1"
   ]
  },
  {
   "cell_type": "code",
   "execution_count": 21,
   "id": "f5c0b3ee-53b7-4793-9cac-f65730387b76",
   "metadata": {},
   "outputs": [
    {
     "data": {
      "text/html": [
       "<div>\n",
       "<style scoped>\n",
       "    .dataframe tbody tr th:only-of-type {\n",
       "        vertical-align: middle;\n",
       "    }\n",
       "\n",
       "    .dataframe tbody tr th {\n",
       "        vertical-align: top;\n",
       "    }\n",
       "\n",
       "    .dataframe thead th {\n",
       "        text-align: right;\n",
       "    }\n",
       "</style>\n",
       "<table border=\"1\" class=\"dataframe\">\n",
       "  <thead>\n",
       "    <tr style=\"text-align: right;\">\n",
       "      <th></th>\n",
       "      <th>sentence</th>\n",
       "      <th>word</th>\n",
       "      <th>lemma</th>\n",
       "      <th>pos</th>\n",
       "      <th>label</th>\n",
       "    </tr>\n",
       "  </thead>\n",
       "  <tbody>\n",
       "    <tr>\n",
       "      <th>0</th>\n",
       "      <td>1</td>\n",
       "      <td>Furthermore</td>\n",
       "      <td>furthermore</td>\n",
       "      <td>ADV</td>\n",
       "      <td>O</td>\n",
       "    </tr>\n",
       "    <tr>\n",
       "      <th>1</th>\n",
       "      <td>1</td>\n",
       "      <td>,</td>\n",
       "      <td>,</td>\n",
       "      <td>PUNCT</td>\n",
       "      <td>O</td>\n",
       "    </tr>\n",
       "    <tr>\n",
       "      <th>2</th>\n",
       "      <td>1</td>\n",
       "      <td>when</td>\n",
       "      <td>when</td>\n",
       "      <td>SCONJ</td>\n",
       "      <td>O</td>\n",
       "    </tr>\n",
       "    <tr>\n",
       "      <th>3</th>\n",
       "      <td>1</td>\n",
       "      <td>all</td>\n",
       "      <td>all</td>\n",
       "      <td>DET</td>\n",
       "      <td>O</td>\n",
       "    </tr>\n",
       "    <tr>\n",
       "      <th>4</th>\n",
       "      <td>1</td>\n",
       "      <td>deliveries</td>\n",
       "      <td>delivery</td>\n",
       "      <td>NOUN</td>\n",
       "      <td>O</td>\n",
       "    </tr>\n",
       "  </tbody>\n",
       "</table>\n",
       "</div>"
      ],
      "text/plain": [
       "   sentence         word        lemma    pos label\n",
       "0         1  Furthermore  furthermore    ADV     O\n",
       "1         1            ,            ,  PUNCT     O\n",
       "2         1         when         when  SCONJ     O\n",
       "3         1          all          all    DET     O\n",
       "4         1   deliveries     delivery   NOUN     O"
      ]
     },
     "execution_count": 21,
     "metadata": {},
     "output_type": "execute_result"
    }
   ],
   "source": [
    "import pandas as pd\n",
    "\n",
    "# Initialize list to store rows\n",
    "test_rows = []\n",
    "\n",
    "i = 0  # Sentence count\n",
    "\n",
    "# Process each sentence and corresponding labels\n",
    "for sent, label in zip(test_sent, test_label):\n",
    "    i += 1  # Increment sentence count\n",
    "    \n",
    "    # Process the entire sentence with spaCy\n",
    "    doc = nlp(sent)\n",
    "    \n",
    "    # Tokenize the label string the same way as the sentence\n",
    "    label_tokens = label.split()  # Assuming labels are split by spaces\n",
    "    \n",
    "    # Ensure the sentence and label have the same number of tokens\n",
    "    if len(doc) != len(label_tokens):\n",
    "        # Optionally, you can skip these sentences or manually fix them\n",
    "        continue\n",
    "\n",
    "    # Iterate through tokens and labels\n",
    "    for tok, l in zip(doc, label_tokens):\n",
    "        # Append the row to the list\n",
    "        test_rows.append([i, tok.text, tok.lemma_, tok.pos_, l])\n",
    "\n",
    "# Create DataFrame from the list of rows\n",
    "test_df = pd.DataFrame(test_rows, columns=['sentence', 'word', 'lemma', 'pos', 'label'])\n",
    "\n",
    "# Check the resulting DataFrame\n",
    "test_df.head()\n"
   ]
  },
  {
   "cell_type": "code",
   "execution_count": null,
   "id": "f342620f-b479-4b1e-bb73-b7bb49aba683",
   "metadata": {},
   "outputs": [],
   "source": []
  },
  {
   "cell_type": "code",
   "execution_count": 22,
   "id": "21b33925-2b22-493c-b519-80004a5f9cf1",
   "metadata": {},
   "outputs": [
    {
     "name": "stdout",
     "output_type": "stream",
     "text": [
      "Training DataFrame:\n",
      "   sentence    word  lemma    pos label\n",
      "0         1     all    all    DET     o\n",
      "1         1    live   live   VERB     o\n",
      "2         1  births  birth   NOUN     o\n",
      "3         1       >      >      X     o\n",
      "4         1      or     or  CCONJ     o\n",
      "Test DataFrame:\n",
      "   sentence         word        lemma    pos label\n",
      "0         1  furthermore  furthermore    ADV     o\n",
      "1         1            ,            ,  PUNCT     o\n",
      "2         1         when         when  SCONJ     o\n",
      "3         1          all          all    DET     o\n",
      "4         1   deliveries     delivery   NOUN     o\n"
     ]
    }
   ],
   "source": [
    "import pandas as pd\n",
    "\n",
    "# Assuming train_sent and train_label are already defined\n",
    "# Clean training data\n",
    "def clean_text(text):\n",
    "    return text.strip().lower()  # Adjust cleaning as needed\n",
    "\n",
    "train_sent = [clean_text(sent) for sent in train_sent]\n",
    "train_label = [clean_text(label) for label in train_label]\n",
    "\n",
    "# Initialize list to store rows for the training DataFrame\n",
    "train_rows = []\n",
    "\n",
    "# Process each sentence and corresponding labels\n",
    "for i, (sent, label) in enumerate(zip(train_sent, train_label), start=1):\n",
    "    doc = nlp(sent)\n",
    "    label_tokens = label.split()\n",
    "    \n",
    "    if len(doc) != len(label_tokens):\n",
    "        continue\n",
    "\n",
    "    for tok, l in zip(doc, label_tokens):\n",
    "        train_rows.append([i, tok.text, tok.lemma_, tok.pos_, l])\n",
    "\n",
    "# Create the training DataFrame\n",
    "train_df = pd.DataFrame(train_rows, columns=['sentence', 'word', 'lemma', 'pos', 'label'])\n",
    "\n",
    "# Assuming test_sent and test_label are defined\n",
    "# Clean test data\n",
    "test_sent = [clean_text(sent) for sent in test_sent]\n",
    "test_label = [clean_text(label) for label in test_label]\n",
    "\n",
    "# Initialize list to store rows for the test DataFrame\n",
    "test_rows = []\n",
    "\n",
    "# Process each sentence and corresponding labels for test data\n",
    "for i, (sent, label) in enumerate(zip(test_sent, test_label), start=1):\n",
    "    doc = nlp(sent)\n",
    "    label_tokens = label.split()\n",
    "\n",
    "    if len(doc) != len(label_tokens):\n",
    "        continue\n",
    "\n",
    "    for tok, l in zip(doc, label_tokens):\n",
    "        test_rows.append([i, tok.text, tok.lemma_, tok.pos_, l])\n",
    "\n",
    "# Create the test DataFrame\n",
    "test_df = pd.DataFrame(test_rows, columns=['sentence', 'word', 'lemma', 'pos', 'label'])\n",
    "\n",
    "# Check the resulting DataFrames\n",
    "print(\"Training DataFrame:\")\n",
    "print(train_df.head())\n",
    "print(\"Test DataFrame:\")\n",
    "print(test_df.head())\n"
   ]
  },
  {
   "cell_type": "code",
   "execution_count": 24,
   "id": "ed5a8ac2-4013-4b07-80eb-8d8c46fac70c",
   "metadata": {},
   "outputs": [],
   "source": [
    "# Word and it's frequency for word which contains NOUN or PROPN as POS tagging\n",
    "freq_df = pd.DataFrame()\n",
    "freq_df = pd.concat((train_df,test_df),axis=0)"
   ]
  },
  {
   "cell_type": "code",
   "execution_count": 25,
   "id": "acacc4cf-8b23-4370-a04c-612ab4db0d1f",
   "metadata": {},
   "outputs": [],
   "source": [
    "# Resetting index\n",
    "freq_df.reset_index(inplace=True,drop=True)"
   ]
  },
  {
   "cell_type": "code",
   "execution_count": 26,
   "id": "2aa8a91e-e2a2-4a0b-9854-759bc9975912",
   "metadata": {},
   "outputs": [
    {
     "data": {
      "text/plain": [
       "word\n",
       "patients        263\n",
       "treatment       193\n",
       "%               135\n",
       "cancer          112\n",
       "study           101\n",
       "therapy          98\n",
       "disease          81\n",
       "effects          71\n",
       "use              64\n",
       "cases            63\n",
       "group            62\n",
       "results          59\n",
       "health           55\n",
       "effect           53\n",
       "gene             52\n",
       "children         48\n",
       "lung             47\n",
       "cell             46\n",
       "risk             45\n",
       "syndrome         45\n",
       "chemotherapy     45\n",
       "surgery          44\n",
       "women            43\n",
       "patient          41\n",
       "evidence         40\n",
       "Name: count, dtype: int64"
      ]
     },
     "execution_count": 26,
     "metadata": {},
     "output_type": "execute_result"
    }
   ],
   "source": [
    "# Top 25 most frequency values for Train and Test related dataset words\n",
    "freq_df[(freq_df['pos'] == 'NOUN') | ((freq_df['pos'] == 'PROPN'))]['word'].value_counts()[:25]"
   ]
  },
  {
   "cell_type": "code",
   "execution_count": 27,
   "id": "a4322b40-fd90-4c23-be94-0c042c643249",
   "metadata": {},
   "outputs": [
    {
     "data": {
      "text/plain": [
       "lemma\n",
       "patient         304\n",
       "treatment       199\n",
       "study           139\n",
       "%               135\n",
       "effect          124\n",
       "cancer          119\n",
       "case            102\n",
       "therapy         101\n",
       "disease          95\n",
       "group            82\n",
       "cell             76\n",
       "use              66\n",
       "gene             63\n",
       "result           62\n",
       "child            58\n",
       "conclusion       56\n",
       "health           55\n",
       "rate             55\n",
       "mutation         52\n",
       "drug             51\n",
       "lung             49\n",
       "risk             49\n",
       "method           49\n",
       "syndrome         47\n",
       "chemotherapy     45\n",
       "Name: count, dtype: int64"
      ]
     },
     "execution_count": 27,
     "metadata": {},
     "output_type": "execute_result"
    }
   ],
   "source": [
    "# Top 25 most frequency values for Train and Test related lemma words\n",
    "freq_df[(freq_df['pos'] == 'NOUN') | ((freq_df['pos'] == 'PROPN'))]['lemma'].value_counts()[:25]"
   ]
  },
  {
   "cell_type": "code",
   "execution_count": 28,
   "id": "ce2dd38e-043e-4083-8f41-57e4a16b88ed",
   "metadata": {},
   "outputs": [
    {
     "data": {
      "text/html": [
       "<div>\n",
       "<style scoped>\n",
       "    .dataframe tbody tr th:only-of-type {\n",
       "        vertical-align: middle;\n",
       "    }\n",
       "\n",
       "    .dataframe tbody tr th {\n",
       "        vertical-align: top;\n",
       "    }\n",
       "\n",
       "    .dataframe thead th {\n",
       "        text-align: right;\n",
       "    }\n",
       "</style>\n",
       "<table border=\"1\" class=\"dataframe\">\n",
       "  <thead>\n",
       "    <tr style=\"text-align: right;\">\n",
       "      <th></th>\n",
       "      <th>sentence</th>\n",
       "      <th>word</th>\n",
       "      <th>lemma</th>\n",
       "      <th>pos</th>\n",
       "      <th>label</th>\n",
       "    </tr>\n",
       "  </thead>\n",
       "  <tbody>\n",
       "    <tr>\n",
       "      <th>0</th>\n",
       "      <td>1</td>\n",
       "      <td>all</td>\n",
       "      <td>all</td>\n",
       "      <td>DET</td>\n",
       "      <td>o</td>\n",
       "    </tr>\n",
       "    <tr>\n",
       "      <th>1</th>\n",
       "      <td>1</td>\n",
       "      <td>live</td>\n",
       "      <td>live</td>\n",
       "      <td>VERB</td>\n",
       "      <td>o</td>\n",
       "    </tr>\n",
       "    <tr>\n",
       "      <th>2</th>\n",
       "      <td>1</td>\n",
       "      <td>births</td>\n",
       "      <td>birth</td>\n",
       "      <td>NOUN</td>\n",
       "      <td>o</td>\n",
       "    </tr>\n",
       "    <tr>\n",
       "      <th>3</th>\n",
       "      <td>1</td>\n",
       "      <td>&gt;</td>\n",
       "      <td>&gt;</td>\n",
       "      <td>X</td>\n",
       "      <td>o</td>\n",
       "    </tr>\n",
       "    <tr>\n",
       "      <th>4</th>\n",
       "      <td>1</td>\n",
       "      <td>or</td>\n",
       "      <td>or</td>\n",
       "      <td>CCONJ</td>\n",
       "      <td>o</td>\n",
       "    </tr>\n",
       "  </tbody>\n",
       "</table>\n",
       "</div>"
      ],
      "text/plain": [
       "   sentence    word  lemma    pos label\n",
       "0         1     all    all    DET     o\n",
       "1         1    live   live   VERB     o\n",
       "2         1  births  birth   NOUN     o\n",
       "3         1       >      >      X     o\n",
       "4         1      or     or  CCONJ     o"
      ]
     },
     "execution_count": 28,
     "metadata": {},
     "output_type": "execute_result"
    }
   ],
   "source": [
    "train_df.head(5)"
   ]
  },
  {
   "cell_type": "code",
   "execution_count": 29,
   "id": "a2a6a496-09e2-496e-a9cb-c27a6e149418",
   "metadata": {},
   "outputs": [
    {
     "data": {
      "text/html": [
       "<div>\n",
       "<style scoped>\n",
       "    .dataframe tbody tr th:only-of-type {\n",
       "        vertical-align: middle;\n",
       "    }\n",
       "\n",
       "    .dataframe tbody tr th {\n",
       "        vertical-align: top;\n",
       "    }\n",
       "\n",
       "    .dataframe thead th {\n",
       "        text-align: right;\n",
       "    }\n",
       "</style>\n",
       "<table border=\"1\" class=\"dataframe\">\n",
       "  <thead>\n",
       "    <tr style=\"text-align: right;\">\n",
       "      <th></th>\n",
       "      <th>sentence</th>\n",
       "      <th>word</th>\n",
       "      <th>lemma</th>\n",
       "      <th>pos</th>\n",
       "      <th>label</th>\n",
       "    </tr>\n",
       "  </thead>\n",
       "  <tbody>\n",
       "    <tr>\n",
       "      <th>0</th>\n",
       "      <td>1</td>\n",
       "      <td>furthermore</td>\n",
       "      <td>furthermore</td>\n",
       "      <td>ADV</td>\n",
       "      <td>o</td>\n",
       "    </tr>\n",
       "    <tr>\n",
       "      <th>1</th>\n",
       "      <td>1</td>\n",
       "      <td>,</td>\n",
       "      <td>,</td>\n",
       "      <td>PUNCT</td>\n",
       "      <td>o</td>\n",
       "    </tr>\n",
       "    <tr>\n",
       "      <th>2</th>\n",
       "      <td>1</td>\n",
       "      <td>when</td>\n",
       "      <td>when</td>\n",
       "      <td>SCONJ</td>\n",
       "      <td>o</td>\n",
       "    </tr>\n",
       "    <tr>\n",
       "      <th>3</th>\n",
       "      <td>1</td>\n",
       "      <td>all</td>\n",
       "      <td>all</td>\n",
       "      <td>DET</td>\n",
       "      <td>o</td>\n",
       "    </tr>\n",
       "    <tr>\n",
       "      <th>4</th>\n",
       "      <td>1</td>\n",
       "      <td>deliveries</td>\n",
       "      <td>delivery</td>\n",
       "      <td>NOUN</td>\n",
       "      <td>o</td>\n",
       "    </tr>\n",
       "  </tbody>\n",
       "</table>\n",
       "</div>"
      ],
      "text/plain": [
       "   sentence         word        lemma    pos label\n",
       "0         1  furthermore  furthermore    ADV     o\n",
       "1         1            ,            ,  PUNCT     o\n",
       "2         1         when         when  SCONJ     o\n",
       "3         1          all          all    DET     o\n",
       "4         1   deliveries     delivery   NOUN     o"
      ]
     },
     "execution_count": 29,
     "metadata": {},
     "output_type": "execute_result"
    }
   ],
   "source": [
    "test_df.head(5)"
   ]
  },
  {
   "cell_type": "code",
   "execution_count": 30,
   "id": "ce7aba0c-fa77-477c-9151-278253689fdf",
   "metadata": {},
   "outputs": [],
   "source": [
    "# Fetch detail view of sentence for train set\n",
    "train_sent_obj = sentencedetail(train_df)\n",
    "train_sent_detail = train_sent_obj.sentences"
   ]
  },
  {
   "cell_type": "code",
   "execution_count": 31,
   "id": "21585544-63b1-4b76-9117-846cfd214c08",
   "metadata": {},
   "outputs": [
    {
     "data": {
      "text/plain": [
       "[('all', 'DET', 'o'),\n",
       " ('live', 'VERB', 'o'),\n",
       " ('births', 'NOUN', 'o'),\n",
       " ('>', 'X', 'o'),\n",
       " ('or', 'CCONJ', 'o'),\n",
       " ('=', 'PRON', 'o'),\n",
       " ('23', 'NUM', 'o'),\n",
       " ('weeks', 'NOUN', 'o'),\n",
       " ('at', 'ADP', 'o'),\n",
       " ('the', 'DET', 'o'),\n",
       " ('university', 'PROPN', 'o'),\n",
       " ('of', 'ADP', 'o'),\n",
       " ('vermont', 'PROPN', 'o'),\n",
       " ('in', 'ADP', 'o'),\n",
       " ('1995', 'NUM', 'o'),\n",
       " ('(', 'PUNCT', 'o'),\n",
       " ('n', 'CCONJ', 'o'),\n",
       " ('=', 'SYM', 'o'),\n",
       " ('2395', 'NUM', 'o'),\n",
       " (')', 'PUNCT', 'o'),\n",
       " ('were', 'AUX', 'o'),\n",
       " ('retrospectively', 'ADV', 'o'),\n",
       " ('analyzed', 'VERB', 'o'),\n",
       " ('for', 'ADP', 'o'),\n",
       " ('delivery', 'NOUN', 'o'),\n",
       " ('route', 'NOUN', 'o'),\n",
       " (',', 'PUNCT', 'o'),\n",
       " ('indication', 'NOUN', 'o'),\n",
       " ('for', 'ADP', 'o'),\n",
       " ('cesarean', 'ADJ', 'o'),\n",
       " (',', 'PUNCT', 'o'),\n",
       " ('gestational', 'ADJ', 'o'),\n",
       " ('age', 'NOUN', 'o'),\n",
       " (',', 'PUNCT', 'o'),\n",
       " ('parity', 'NOUN', 'o'),\n",
       " (',', 'PUNCT', 'o'),\n",
       " ('and', 'CCONJ', 'o'),\n",
       " ('practice', 'NOUN', 'o'),\n",
       " ('group', 'NOUN', 'o'),\n",
       " ('(', 'PUNCT', 'o'),\n",
       " ('to', 'PART', 'o'),\n",
       " ('reflect', 'VERB', 'o'),\n",
       " ('risk', 'NOUN', 'o'),\n",
       " ('status', 'NOUN', 'o'),\n",
       " (')', 'PUNCT', 'o')]"
      ]
     },
     "execution_count": 31,
     "metadata": {},
     "output_type": "execute_result"
    }
   ],
   "source": [
    "# Display one sentence detail view for train set\n",
    "train_sent_detail[0]"
   ]
  },
  {
   "cell_type": "code",
   "execution_count": 32,
   "id": "26abcc66-92f6-4261-b2ff-823e44e7146d",
   "metadata": {},
   "outputs": [],
   "source": [
    "# Fetch detail view of sentence for train set\n",
    "test_sent_obj = sentencedetail(test_df)\n",
    "test_sent_detail = test_sent_obj.sentences"
   ]
  },
  {
   "cell_type": "code",
   "execution_count": 33,
   "id": "2064490e-84ca-45eb-a301-fa37a7ee5a7d",
   "metadata": {},
   "outputs": [
    {
     "data": {
      "text/plain": [
       "[('furthermore', 'ADV', 'o'),\n",
       " (',', 'PUNCT', 'o'),\n",
       " ('when', 'SCONJ', 'o'),\n",
       " ('all', 'DET', 'o'),\n",
       " ('deliveries', 'NOUN', 'o'),\n",
       " ('were', 'AUX', 'o'),\n",
       " ('analyzed', 'VERB', 'o'),\n",
       " (',', 'PUNCT', 'o'),\n",
       " ('regardless', 'ADV', 'o'),\n",
       " ('of', 'ADP', 'o'),\n",
       " ('risk', 'NOUN', 'o'),\n",
       " ('status', 'NOUN', 'o'),\n",
       " ('but', 'CCONJ', 'o'),\n",
       " ('limited', 'VERB', 'o'),\n",
       " ('to', 'ADP', 'o'),\n",
       " ('gestational', 'ADJ', 'o'),\n",
       " ('age', 'NOUN', 'o'),\n",
       " ('>', 'PUNCT', 'o'),\n",
       " ('or', 'CCONJ', 'o'),\n",
       " ('=', 'PRON', 'o'),\n",
       " ('36', 'NUM', 'o'),\n",
       " ('weeks', 'NOUN', 'o'),\n",
       " (',', 'PUNCT', 'o'),\n",
       " ('the', 'DET', 'o'),\n",
       " ('rates', 'NOUN', 'o'),\n",
       " ('did', 'AUX', 'o'),\n",
       " ('not', 'PART', 'o'),\n",
       " ('change', 'VERB', 'o'),\n",
       " ('(', 'PUNCT', 'o'),\n",
       " ('12.6', 'NUM', 'o'),\n",
       " ('%', 'NOUN', 'o'),\n",
       " (',', 'PUNCT', 'o'),\n",
       " ('280', 'NUM', 'o'),\n",
       " ('of', 'ADP', 'o'),\n",
       " ('2214', 'NUM', 'o'),\n",
       " (';', 'PUNCT', 'o'),\n",
       " ('primary', 'ADJ', 'o'),\n",
       " ('9.2', 'NUM', 'o'),\n",
       " ('%', 'NOUN', 'o'),\n",
       " (',', 'PUNCT', 'o'),\n",
       " ('183', 'NUM', 'o'),\n",
       " ('of', 'ADP', 'o'),\n",
       " ('1994', 'NUM', 'o'),\n",
       " (')', 'PUNCT', 'o')]"
      ]
     },
     "execution_count": 33,
     "metadata": {},
     "output_type": "execute_result"
    }
   ],
   "source": [
    "# Display one sentence detail view for train set\n",
    "test_sent_detail[0]"
   ]
  },
  {
   "cell_type": "code",
   "execution_count": 34,
   "id": "56cdb826-a2d4-4da5-ad70-1b4ec22e5e26",
   "metadata": {},
   "outputs": [],
   "source": [
    "# Prepare X-train and X-test by extracting features from train and test dataset\n",
    "X_train = [sent2features(s) for s in train_sent_detail]\n",
    "X_test = [sent2features(s) for s in test_sent_detail]"
   ]
  },
  {
   "cell_type": "code",
   "execution_count": 35,
   "id": "acb30366-76bd-4f50-842d-07ea4f407a37",
   "metadata": {},
   "outputs": [],
   "source": [
    "# Prepare y-train and y-test by extracting labels from train and test dataset\n",
    "y_train = [sent2labels(l) for l in train_sent_detail]\n",
    "y_test = [sent2labels(l) for l in test_sent_detail]"
   ]
  },
  {
   "cell_type": "code",
   "execution_count": 36,
   "id": "23ac7882-baff-4720-8224-7a3ff57d3afd",
   "metadata": {},
   "outputs": [
    {
     "name": "stdout",
     "output_type": "stream",
     "text": [
      "Model fitted successfully!\n"
     ]
    }
   ],
   "source": [
    "from sklearn_crfsuite import CRF\n",
    "\n",
    "# Example data (replace with your actual data)\n",
    "X_train = [sent2features(s) for s in train_sent_detail]\n",
    "    \n",
    "y_train = [sent2labels(l) for l in train_sent_detail]\n",
    "\n",
    "\n",
    "# Initialize the CRF model\n",
    "crf = CRF(max_iterations=100, c1=1.0, c2=0.01, all_possible_transitions=False)\n",
    "\n",
    "# Fit the model\n",
    "try:\n",
    "    crf.fit(X_train, y_train)\n",
    "    print(\"Model fitted successfully!\")\n",
    "except Exception as e:\n",
    "    print(\"Error:\", e)\n"
   ]
  },
  {
   "cell_type": "code",
   "execution_count": 37,
   "id": "e1567307-40b9-4193-b355-b5846356d8c1",
   "metadata": {},
   "outputs": [
    {
     "name": "stdout",
     "output_type": "stream",
     "text": [
      "Predicted F1-score for Medical Entity Dataset is: 90.65 % \n"
     ]
    }
   ],
   "source": [
    "# Calculate the f1 score using the test data\n",
    "y_pred = crf.predict(X_test)\n",
    "f1_score = metrics.flat_f1_score(y_test, y_pred, average='weighted')\n",
    "print('Predicted F1-score for Medical Entity Dataset is: {0} % '.format(round(f1_score*100,2)))"
   ]
  },
  {
   "cell_type": "code",
   "execution_count": 38,
   "id": "b9eb8eab-6146-4ca2-beec-84f9eb7237eb",
   "metadata": {},
   "outputs": [
    {
     "name": "stdout",
     "output_type": "stream",
     "text": [
      "Requirement already satisfied: matplotlib in c:\\users\\hp\\appdata\\local\\programs\\python\\python312\\lib\\site-packages (3.9.2)\n",
      "Requirement already satisfied: contourpy>=1.0.1 in c:\\users\\hp\\appdata\\local\\programs\\python\\python312\\lib\\site-packages (from matplotlib) (1.3.0)\n",
      "Requirement already satisfied: cycler>=0.10 in c:\\users\\hp\\appdata\\local\\programs\\python\\python312\\lib\\site-packages (from matplotlib) (0.12.1)\n",
      "Requirement already satisfied: fonttools>=4.22.0 in c:\\users\\hp\\appdata\\local\\programs\\python\\python312\\lib\\site-packages (from matplotlib) (4.53.1)\n",
      "Requirement already satisfied: kiwisolver>=1.3.1 in c:\\users\\hp\\appdata\\local\\programs\\python\\python312\\lib\\site-packages (from matplotlib) (1.4.7)\n",
      "Requirement already satisfied: numpy>=1.23 in c:\\users\\hp\\appdata\\local\\programs\\python\\python312\\lib\\site-packages (from matplotlib) (1.26.4)\n",
      "Requirement already satisfied: packaging>=20.0 in c:\\users\\hp\\appdata\\local\\programs\\python\\python312\\lib\\site-packages (from matplotlib) (24.1)\n",
      "Requirement already satisfied: pillow>=8 in c:\\users\\hp\\appdata\\local\\programs\\python\\python312\\lib\\site-packages (from matplotlib) (10.4.0)\n",
      "Requirement already satisfied: pyparsing>=2.3.1 in c:\\users\\hp\\appdata\\local\\programs\\python\\python312\\lib\\site-packages (from matplotlib) (3.1.4)\n",
      "Requirement already satisfied: python-dateutil>=2.7 in c:\\users\\hp\\appdata\\local\\programs\\python\\python312\\lib\\site-packages (from matplotlib) (2.9.0.post0)\n",
      "Requirement already satisfied: six>=1.5 in c:\\users\\hp\\appdata\\local\\programs\\python\\python312\\lib\\site-packages (from python-dateutil>=2.7->matplotlib) (1.16.0)\n"
     ]
    }
   ],
   "source": [
    "!pip install matplotlib\n"
   ]
  },
  {
   "cell_type": "code",
   "execution_count": 39,
   "id": "49c57d94-d4d1-4d9c-8668-88ea3c667618",
   "metadata": {},
   "outputs": [
    {
     "name": "stdout",
     "output_type": "stream",
     "text": [
      "Requirement already satisfied: seaborn in c:\\users\\hp\\appdata\\local\\programs\\python\\python312\\lib\\site-packages (0.13.2)\n",
      "Requirement already satisfied: numpy!=1.24.0,>=1.20 in c:\\users\\hp\\appdata\\local\\programs\\python\\python312\\lib\\site-packages (from seaborn) (1.26.4)\n",
      "Requirement already satisfied: pandas>=1.2 in c:\\users\\hp\\appdata\\local\\programs\\python\\python312\\lib\\site-packages (from seaborn) (2.2.2)\n",
      "Requirement already satisfied: matplotlib!=3.6.1,>=3.4 in c:\\users\\hp\\appdata\\local\\programs\\python\\python312\\lib\\site-packages (from seaborn) (3.9.2)\n",
      "Requirement already satisfied: contourpy>=1.0.1 in c:\\users\\hp\\appdata\\local\\programs\\python\\python312\\lib\\site-packages (from matplotlib!=3.6.1,>=3.4->seaborn) (1.3.0)\n",
      "Requirement already satisfied: cycler>=0.10 in c:\\users\\hp\\appdata\\local\\programs\\python\\python312\\lib\\site-packages (from matplotlib!=3.6.1,>=3.4->seaborn) (0.12.1)\n",
      "Requirement already satisfied: fonttools>=4.22.0 in c:\\users\\hp\\appdata\\local\\programs\\python\\python312\\lib\\site-packages (from matplotlib!=3.6.1,>=3.4->seaborn) (4.53.1)\n",
      "Requirement already satisfied: kiwisolver>=1.3.1 in c:\\users\\hp\\appdata\\local\\programs\\python\\python312\\lib\\site-packages (from matplotlib!=3.6.1,>=3.4->seaborn) (1.4.7)\n",
      "Requirement already satisfied: packaging>=20.0 in c:\\users\\hp\\appdata\\local\\programs\\python\\python312\\lib\\site-packages (from matplotlib!=3.6.1,>=3.4->seaborn) (24.1)\n",
      "Requirement already satisfied: pillow>=8 in c:\\users\\hp\\appdata\\local\\programs\\python\\python312\\lib\\site-packages (from matplotlib!=3.6.1,>=3.4->seaborn) (10.4.0)\n",
      "Requirement already satisfied: pyparsing>=2.3.1 in c:\\users\\hp\\appdata\\local\\programs\\python\\python312\\lib\\site-packages (from matplotlib!=3.6.1,>=3.4->seaborn) (3.1.4)\n",
      "Requirement already satisfied: python-dateutil>=2.7 in c:\\users\\hp\\appdata\\local\\programs\\python\\python312\\lib\\site-packages (from matplotlib!=3.6.1,>=3.4->seaborn) (2.9.0.post0)\n",
      "Requirement already satisfied: pytz>=2020.1 in c:\\users\\hp\\appdata\\local\\programs\\python\\python312\\lib\\site-packages (from pandas>=1.2->seaborn) (2024.1)\n",
      "Requirement already satisfied: tzdata>=2022.7 in c:\\users\\hp\\appdata\\local\\programs\\python\\python312\\lib\\site-packages (from pandas>=1.2->seaborn) (2024.1)\n",
      "Requirement already satisfied: six>=1.5 in c:\\users\\hp\\appdata\\local\\programs\\python\\python312\\lib\\site-packages (from python-dateutil>=2.7->matplotlib!=3.6.1,>=3.4->seaborn) (1.16.0)\n"
     ]
    }
   ],
   "source": [
    "!pip install seaborn\n"
   ]
  },
  {
   "cell_type": "code",
   "execution_count": 40,
   "id": "0a0c5705-ca2b-4cff-b5e8-e7f30dfda8a5",
   "metadata": {},
   "outputs": [
    {
     "name": "stdout",
     "output_type": "stream",
     "text": [
      "Predicted F1-score for Medical Entity Dataset is: 90.65 % \n",
      "Classification Accuracy: 0.9148164929768917\n",
      "Classification Report\n",
      "\n",
      "              precision    recall  f1-score   support\n",
      "\n",
      "           d       0.79      0.57      0.66       931\n",
      "           o       0.93      0.98      0.95      9573\n",
      "           t       0.68      0.38      0.49       531\n",
      "\n",
      "    accuracy                           0.91     11035\n",
      "   macro avg       0.80      0.64      0.70     11035\n",
      "weighted avg       0.91      0.91      0.91     11035\n",
      "\n",
      "Confusion Matrix\n",
      "\n",
      "[[ 531  388   12]\n",
      " [ 128 9362   83]\n",
      " [  11  318  202]]\n"
     ]
    },
    {
     "data": {
      "image/png": "[encoded data removed]",
      "text/plain": [
       "<Figure size 1000x700 with 2 Axes>"
      ]
     },
     "metadata": {},
     "output_type": "display_data"
    }
   ],
   "source": [
    "from sklearn.metrics import accuracy_score, classification_report, confusion_matrix\n",
    "import matplotlib.pyplot as plt\n",
    "import seaborn as sn\n",
    "\n",
    "\n",
    "\n",
    "# Flatten the sequences in y_test and y_pred\n",
    "y_test_flat = [label for seq in y_test for label in seq]\n",
    "y_pred_flat = [label for seq in y_pred for label in seq]\n",
    "\n",
    "# Calculate and print the F1-score\n",
    "f1_score = metrics.flat_f1_score(y_test, y_pred, average='weighted')\n",
    "print('Predicted F1-score for Medical Entity Dataset is: {0} % '.format(round(f1_score*100, 2)))\n",
    "\n",
    "# Evaluate the model\n",
    "\n",
    "# Calculate and print the Classification Accuracy\n",
    "print(\"Classification Accuracy:\", accuracy_score(y_test_flat, y_pred_flat))\n",
    "\n",
    "# Generate and print the Classification Report\n",
    "print(\"Classification Report\\n\")\n",
    "print(classification_report(y_test_flat, y_pred_flat))\n",
    "\n",
    "# Generate and print the Confusion Matrix\n",
    "print(\"Confusion Matrix\\n\")\n",
    "cm = confusion_matrix(y_test_flat, y_pred_flat)\n",
    "print(cm)\n",
    "\n",
    "# Plot the Confusion Matrix as a heatmap\n",
    "plt.figure(figsize=(10, 7))\n",
    "sn.heatmap(cm, annot=True, fmt='d', cmap='Blues')\n",
    "plt.xlabel('Predicted')\n",
    "plt.ylabel('Truth')\n",
    "plt.title('Confusion Matrix')\n",
    "plt.show()"
   ]
  },
  {
   "cell_type": "code",
   "execution_count": 41,
   "id": "a17db997-c03b-45ce-9beb-0b02a204e82b",
   "metadata": {},
   "outputs": [],
   "source": [
    "# Taken out predicted label from the model\n",
    "pred_label=[]\n",
    "for i in y_pred:\n",
    "    pred_label.extend(i)"
   ]
  },
  {
   "cell_type": "code",
   "execution_count": 42,
   "id": "d5de731e-a13c-429f-89db-3f439947caa6",
   "metadata": {},
   "outputs": [],
   "source": [
    "# Loaded into test dataframe\n",
    "test_df['label_predicted'] = pred_label"
   ]
  },
  {
   "cell_type": "code",
   "execution_count": 43,
   "id": "3329d30e-e201-4967-8777-88cd60ec388f",
   "metadata": {
    "scrolled": true
   },
   "outputs": [
    {
     "data": {
      "text/html": [
       "<div>\n",
       "<style scoped>\n",
       "    .dataframe tbody tr th:only-of-type {\n",
       "        vertical-align: middle;\n",
       "    }\n",
       "\n",
       "    .dataframe tbody tr th {\n",
       "        vertical-align: top;\n",
       "    }\n",
       "\n",
       "    .dataframe thead th {\n",
       "        text-align: right;\n",
       "    }\n",
       "</style>\n",
       "<table border=\"1\" class=\"dataframe\">\n",
       "  <thead>\n",
       "    <tr style=\"text-align: right;\">\n",
       "      <th></th>\n",
       "      <th>sentence</th>\n",
       "      <th>word</th>\n",
       "      <th>lemma</th>\n",
       "      <th>pos</th>\n",
       "      <th>label</th>\n",
       "      <th>label_predicted</th>\n",
       "    </tr>\n",
       "  </thead>\n",
       "  <tbody>\n",
       "    <tr>\n",
       "      <th>0</th>\n",
       "      <td>1</td>\n",
       "      <td>furthermore</td>\n",
       "      <td>furthermore</td>\n",
       "      <td>ADV</td>\n",
       "      <td>o</td>\n",
       "      <td>o</td>\n",
       "    </tr>\n",
       "    <tr>\n",
       "      <th>1</th>\n",
       "      <td>1</td>\n",
       "      <td>,</td>\n",
       "      <td>,</td>\n",
       "      <td>PUNCT</td>\n",
       "      <td>o</td>\n",
       "      <td>o</td>\n",
       "    </tr>\n",
       "    <tr>\n",
       "      <th>2</th>\n",
       "      <td>1</td>\n",
       "      <td>when</td>\n",
       "      <td>when</td>\n",
       "      <td>SCONJ</td>\n",
       "      <td>o</td>\n",
       "      <td>o</td>\n",
       "    </tr>\n",
       "    <tr>\n",
       "      <th>3</th>\n",
       "      <td>1</td>\n",
       "      <td>all</td>\n",
       "      <td>all</td>\n",
       "      <td>DET</td>\n",
       "      <td>o</td>\n",
       "      <td>o</td>\n",
       "    </tr>\n",
       "    <tr>\n",
       "      <th>4</th>\n",
       "      <td>1</td>\n",
       "      <td>deliveries</td>\n",
       "      <td>delivery</td>\n",
       "      <td>NOUN</td>\n",
       "      <td>o</td>\n",
       "      <td>o</td>\n",
       "    </tr>\n",
       "  </tbody>\n",
       "</table>\n",
       "</div>"
      ],
      "text/plain": [
       "   sentence         word        lemma    pos label label_predicted\n",
       "0         1  furthermore  furthermore    ADV     o               o\n",
       "1         1            ,            ,  PUNCT     o               o\n",
       "2         1         when         when  SCONJ     o               o\n",
       "3         1          all          all    DET     o               o\n",
       "4         1   deliveries     delivery   NOUN     o               o"
      ]
     },
     "execution_count": 43,
     "metadata": {},
     "output_type": "execute_result"
    }
   ],
   "source": [
    "# Visualise top 5 data\n",
    "test_df.head(5)"
   ]
  },
  {
   "cell_type": "code",
   "execution_count": null,
   "id": "cf20f748-276c-4b43-9653-2ad54e381e47",
   "metadata": {},
   "outputs": [],
   "source": []
  },
  {
   "cell_type": "code",
   "execution_count": 61,
   "id": "25c247a3-763f-4b09-ad34-1c288afee47f",
   "metadata": {},
   "outputs": [
    {
     "data": {
      "image/png": "[encoded data removed]",
      "text/plain": [
       "<Figure size 1000x1000 with 1 Axes>"
      ]
     },
     "metadata": {},
     "output_type": "display_data"
    }
   ],
   "source": [
    "import matplotlib.pyplot as plt\n",
    "from sklearn_crfsuite import CRF\n",
    "\n",
    "# Assuming crf is your trained CRF model\n",
    "# Example: crf = CRF(max_iterations=100, c1=1.0, c2=0.01, all_possible_transitions=False)\n",
    "# crf.fit(X_train, y_train)\n",
    "\n",
    "# Get the model's state features (weights)\n",
    "state_features = crf.state_features_\n",
    "\n",
    "# Extract and sort features based on their absolute weights across all labels\n",
    "sorted_features = sorted(state_features.items(), key=lambda x: abs(x[1]), reverse=True)\n",
    "\n",
    "# Extract top 30 features and their weights\n",
    "top_features = sorted_features[:10]\n",
    "top_feature_names = [f[0] for f in top_features]\n",
    "top_weights = [f[1] for f in top_features]\n",
    "\n",
    "# Plotting top weights\n",
    "plt.figure(figsize=(10, 10))\n",
    "plt.bar(range(len(top_weights)), top_weights, align='center')\n",
    "plt.xlabel('Feature')\n",
    "plt.ylabel('Weight')\n",
    "plt.title('Top 10 Feature Weights of CRF Model')\n",
    "plt.xticks(range(len(top_weights)), top_feature_names, rotation=45)\n",
    "plt.tight_layout()\n",
    "plt.show()\n"
   ]
  },
  {
   "cell_type": "code",
   "execution_count": null,
   "id": "53634d25-2bea-407a-aae8-a7a22cbc0616",
   "metadata": {},
   "outputs": [],
   "source": []
  },
  {
   "cell_type": "code",
   "execution_count": null,
   "id": "354f1a3d-fac6-415d-bc4d-92bb30b4e9f2",
   "metadata": {},
   "outputs": [],
   "source": []
  }
 ],
 "metadata": {
  "kernelspec": {
   "display_name": "Python 3 (ipykernel)",
   "language": "python",
   "name": "python3"
  },
  "language_info": {
   "codemirror_mode": {
    "name": "ipython",
    "version": 3
   },
   "file_extension": ".py",
   "mimetype": "text/x-python",
   "name": "python",
   "nbconvert_exporter": "python",
   "pygments_lexer": "ipython3",
   "version": "3.12.5"
  }
 },
 "nbformat": 4,
 "nbformat_minor": 5
}
